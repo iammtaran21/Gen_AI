{
 "cells": [
  {
   "cell_type": "code",
   "execution_count": null,
   "id": "9d83645d",
   "metadata": {},
   "outputs": [
    {
     "name": "stderr",
     "output_type": "stream",
     "text": [
      "[nltk_data] Error loading averaged_perceptron_tagger: <urlopen error\n",
      "[nltk_data]     [SSL: CERTIFICATE_VERIFY_FAILED] certificate verify\n",
      "[nltk_data]     failed: unable to get local issuer certificate\n",
      "[nltk_data]     (_ssl.c:997)>\n",
      "[nltk_data] Error loading wordnet: <urlopen error [SSL:\n",
      "[nltk_data]     CERTIFICATE_VERIFY_FAILED] certificate verify failed:\n",
      "[nltk_data]     unable to get local issuer certificate (_ssl.c:997)>\n",
      "[nltk_data] Error loading punkt: <urlopen error [SSL:\n",
      "[nltk_data]     CERTIFICATE_VERIFY_FAILED] certificate verify failed:\n",
      "[nltk_data]     unable to get local issuer certificate (_ssl.c:997)>\n"
     ]
    },
    {
     "name": "stdout",
     "output_type": "stream",
     "text": [
      "Tell a topic: Animal\n"
     ]
    }
   ],
   "source": [
    "import warnings\n",
    "warnings.filterwarnings(\"ignore\")\n",
    "# warnings.filterwarnings(\"ignore\", category=SomeWarningCategory)\n",
    "import nltk\n",
    "import wikipedia\n",
    "from nltk.stem import WordNetLemmatizer\n",
    "from sklearn.feature_extraction.text import TfidfVectorizer\n",
    "from sklearn.metrics.pairwise import cosine_similarity\n",
    "\n",
    "\n",
    "nltk.download('averaged_perceptron_tagger')\n",
    "nltk.download('wordnet')\n",
    "nltk.download('punkt')\n",
    "\n",
    "topic= input(\"Tell a topic: \")\n",
    "text = wikipedia.page(topic).content\n",
    "\n",
    "lemmatizer = WordNetLemmatizer()\n",
    "\n",
    "def lemma_me(sent):\n",
    "    sentence_tokens = nltk.word_tokenize(sent.lower())\n",
    "    pos_tags = nltk.pos_tag(sentence_tokens)\n",
    "\n",
    "    sentence_lemmas = []\n",
    "    for token, pos_tag in zip(sentence_tokens, pos_tags):\n",
    "        if pos_tag[1][0].lower() in ['n', 'v', 'a', 'r']:\n",
    "            lemma = lemmatizer.lemmatize(token, pos_tag[1][0].lower())\n",
    "            sentence_lemmas.append(lemma)\n",
    "\n",
    "    return sentence_lemmas\n",
    "\n",
    "def process(text, question):\n",
    "    sentence_tokens = nltk.sent_tokenize(text)\n",
    "    sentence_tokens.append(question)\n",
    "\n",
    "    tv = TfidfVectorizer(tokenizer=lemma_me)\n",
    "    tf = tv.fit_transform(sentence_tokens)\n",
    "    values = cosine_similarity(tf[-1], tf)\n",
    "    index = values.argsort()[0][-2]\n",
    "    values_flat = values.flatten()\n",
    "    values_flat.sort()\n",
    "    coeff = values_flat[-2]\n",
    "    if coeff > 0.3:\n",
    "        return sentence_tokens[index]\n",
    "\n",
    "\n",
    "while True:\n",
    "    \n",
    "    question = input(\"Hi, what do you want to know?\\n\")\n",
    "    output = process(text, question)\n",
    "    if output:\n",
    "        print(output)\n",
    "    elif question=='quit':\n",
    "        break\n",
    "    else:\n",
    "        print(\"I don't know.\")"
   ]
  },
  {
   "cell_type": "code",
   "execution_count": null,
   "id": "648e527f",
   "metadata": {},
   "outputs": [],
   "source": []
  },
  {
   "cell_type": "code",
   "execution_count": null,
   "id": "77ba6d37",
   "metadata": {},
   "outputs": [],
   "source": []
  }
 ],
 "metadata": {
  "kernelspec": {
   "display_name": "Python 3 (ipykernel)",
   "language": "python",
   "name": "python3"
  },
  "language_info": {
   "codemirror_mode": {
    "name": "ipython",
    "version": 3
   },
   "file_extension": ".py",
   "mimetype": "text/x-python",
   "name": "python",
   "nbconvert_exporter": "python",
   "pygments_lexer": "ipython3",
   "version": "3.10.10"
  }
 },
 "nbformat": 4,
 "nbformat_minor": 5
}
